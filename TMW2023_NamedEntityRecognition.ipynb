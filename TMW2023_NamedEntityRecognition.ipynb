{
  "cells": [
    {
      "cell_type": "markdown",
      "metadata": {
        "id": "_vy7xONK5oJH"
      },
      "source": [
        "# Named Entity Recognition - Quotes Deidentification Example"
      ]
    },
    {
      "cell_type": "markdown",
      "metadata": {
        "id": "QuRTfDh4HCuc"
      },
      "source": [
        "## 0. Mount Google Drive"
      ]
    },
    {
      "cell_type": "code",
      "execution_count": 1,
      "metadata": {
        "colab": {
          "base_uri": "https://localhost:8080/"
        },
        "id": "38L4dPXKBjIZ",
        "outputId": "c3d3e14c-8a34-400f-9f05-b88a8f5bf844"
      },
      "outputs": [
        {
          "output_type": "stream",
          "name": "stdout",
          "text": [
            "Mounted at /content/drive\n"
          ]
        }
      ],
      "source": [
        "from google.colab import drive\n",
        "drive.mount('/content/drive', force_remount=True)"
      ]
    },
    {
      "cell_type": "markdown",
      "metadata": {
        "id": "zFaqsQTPF8rJ"
      },
      "source": [
        "## 1. Environment Preparation"
      ]
    },
    {
      "cell_type": "code",
      "execution_count": 3,
      "metadata": {
        "id": "3Yb_51pUdoyH"
      },
      "outputs": [],
      "source": [
        "# Instal and import packages\n",
        "#! pip install spacy\n",
        "#! python -m spacy download en_core_web_sm\n",
        "\n",
        "# imports and load spacy english language package\n",
        "import spacy\n",
        "from spacy import displacy\n",
        "from spacy import tokenizer\n",
        "import re\n",
        "\n",
        "# Load English tokenizer, tagger, parser and NER\n",
        "nlp = spacy.load('en_core_web_sm')"
      ]
    },
    {
      "cell_type": "markdown",
      "metadata": {
        "id": "tW-chaufGLzg"
      },
      "source": [
        "## 2. Data Explorarion"
      ]
    },
    {
      "cell_type": "code",
      "execution_count": 4,
      "metadata": {
        "id": "bDAt5C-Ydojc"
      },
      "outputs": [],
      "source": [
        "corpus = [\n",
        "    \"“ChatGPT is scary good. We are not far from dangerously strong AI.” ~Elon Musk\",\n",
        "    \"“ChatGPT is incredibly limited, but good enough at some things to create a misleading impression of greatness.  it’s a mistake to be relying on it for anything important right now. it’s a preview of progress; we have lots of work to do on robustness and truthfulness.” ~Sam Altman, CEO OpenAI.  Twitter 12/10/22.\",\n",
        "    \"“There’s a certain feeling that happens when a new technology adjusts your thinking about computing. Google did it. Firefox did it. AWS did it. iPhone did it. OpenAI is doing it with ChatGPT.” ~Aaron Levie\"\n",
        "]\n"
      ]
    },
    {
      "cell_type": "markdown",
      "source": [
        "## 3. Data Preparation and Anonymization"
      ],
      "metadata": {
        "id": "zpR8Rjp10WfT"
      }
    },
    {
      "cell_type": "code",
      "source": [
        "# Parse data with person names and filter them\n",
        "\n",
        "anonymized_corpus = []\n",
        "\n",
        "for doc in corpus:\n",
        "  #Load the doc\n",
        "  print(f'doc: {doc}')\n",
        "  #Remove special characters\n",
        "  cleaned_doc = re.sub('[!@#~$“”]', '', doc)\n",
        "  print(f'cleaned_doc: {cleaned_doc}')\n",
        "  parsed_cleaned_doc = nlp(cleaned_doc)\n",
        "  print(f'cleaned_doc.sents: {list(nlp(cleaned_doc).sents)}')\n",
        "  print(f'cleaned_doc.ents: {list(nlp(cleaned_doc).ents)}')\n",
        "  print()\n",
        "  displacy.render(nlp(cleaned_doc), style='ent', jupyter=True)\n",
        "  print()\n",
        "  all_ents = [(e.text, e.label_) for e in nlp(cleaned_doc).ents]\n",
        "  print(f\"all_ents: {all_ents}\")\n",
        "  named_ents = []\n",
        "  for ent in nlp(cleaned_doc).ents:\n",
        "    if ent.label_=='PERSON':\n",
        "      named_ents.append(ent.text)\n",
        "      cleaned_doc = cleaned_doc.replace(ent.text, '')\n",
        "  anonymized_corpus.append(cleaned_doc)\n",
        "  print(f\"named_ents: {named_ents}\")\n",
        "\n",
        "print(f\"\\nAnonymized Corpus:\")\n",
        "for doc_anonymized in anonymized_corpus:\n",
        "  print(f'{doc_anonymized}')"
      ],
      "metadata": {
        "colab": {
          "base_uri": "https://localhost:8080/",
          "height": 730
        },
        "id": "Njizx6Lu0brH",
        "outputId": "ca79b025-53cc-46b9-9485-9b91b9a05ef2"
      },
      "execution_count": 16,
      "outputs": [
        {
          "output_type": "stream",
          "name": "stdout",
          "text": [
            "doc: “ChatGPT is scary good. We are not far from dangerously strong AI.” ~Elon Musk\n",
            "cleaned_doc: ChatGPT is scary good. We are not far from dangerously strong AI. Elon Musk\n",
            "cleaned_doc.sents: [ChatGPT is scary good., We are not far from dangerously strong AI., Elon Musk]\n",
            "cleaned_doc.ents: [ChatGPT, AI, Elon Musk]\n",
            "\n"
          ]
        },
        {
          "output_type": "display_data",
          "data": {
            "text/plain": [
              "<IPython.core.display.HTML object>"
            ],
            "text/html": [
              "<span class=\"tex2jax_ignore\"><div class=\"entities\" style=\"line-height: 2.5; direction: ltr\">\n",
              "<mark class=\"entity\" style=\"background: #7aecec; padding: 0.45em 0.6em; margin: 0 0.25em; line-height: 1; border-radius: 0.35em;\">\n",
              "    ChatGPT\n",
              "    <span style=\"font-size: 0.8em; font-weight: bold; line-height: 1; border-radius: 0.35em; vertical-align: middle; margin-left: 0.5rem\">ORG</span>\n",
              "</mark>\n",
              " is scary good. We are not far from dangerously strong \n",
              "<mark class=\"entity\" style=\"background: #f0d0ff; padding: 0.45em 0.6em; margin: 0 0.25em; line-height: 1; border-radius: 0.35em;\">\n",
              "    AI\n",
              "    <span style=\"font-size: 0.8em; font-weight: bold; line-height: 1; border-radius: 0.35em; vertical-align: middle; margin-left: 0.5rem\">WORK_OF_ART</span>\n",
              "</mark>\n",
              ". \n",
              "<mark class=\"entity\" style=\"background: #aa9cfc; padding: 0.45em 0.6em; margin: 0 0.25em; line-height: 1; border-radius: 0.35em;\">\n",
              "    Elon Musk\n",
              "    <span style=\"font-size: 0.8em; font-weight: bold; line-height: 1; border-radius: 0.35em; vertical-align: middle; margin-left: 0.5rem\">PERSON</span>\n",
              "</mark>\n",
              "</div></span>"
            ]
          },
          "metadata": {}
        },
        {
          "output_type": "stream",
          "name": "stdout",
          "text": [
            "\n",
            "all_ents: [('ChatGPT', 'ORG'), ('AI', 'WORK_OF_ART'), ('Elon Musk', 'PERSON')]\n",
            "named_ents: ['Elon Musk']\n",
            "doc: “ChatGPT is incredibly limited, but good enough at some things to create a misleading impression of greatness.  it’s a mistake to be relying on it for anything important right now. it’s a preview of progress; we have lots of work to do on robustness and truthfulness.” ~Sam Altman, CEO OpenAI.  Twitter 12/10/22.\n",
            "cleaned_doc: ChatGPT is incredibly limited, but good enough at some things to create a misleading impression of greatness.  it’s a mistake to be relying on it for anything important right now. it’s a preview of progress; we have lots of work to do on robustness and truthfulness. Sam Altman, CEO OpenAI.  Twitter 12/10/22.\n",
            "cleaned_doc.sents: [ChatGPT is incredibly limited, but good enough at some things to create a misleading impression of greatness.  , it’s a mistake to be relying on it for anything important right now., it’s a preview of progress; we have lots of work to do on robustness and truthfulness., Sam Altman, CEO OpenAI.  , Twitter 12/10/22.]\n",
            "cleaned_doc.ents: [ChatGPT, Sam Altman, OpenAI]\n",
            "\n"
          ]
        },
        {
          "output_type": "display_data",
          "data": {
            "text/plain": [
              "<IPython.core.display.HTML object>"
            ],
            "text/html": [
              "<span class=\"tex2jax_ignore\"><div class=\"entities\" style=\"line-height: 2.5; direction: ltr\">\n",
              "<mark class=\"entity\" style=\"background: #7aecec; padding: 0.45em 0.6em; margin: 0 0.25em; line-height: 1; border-radius: 0.35em;\">\n",
              "    ChatGPT\n",
              "    <span style=\"font-size: 0.8em; font-weight: bold; line-height: 1; border-radius: 0.35em; vertical-align: middle; margin-left: 0.5rem\">ORG</span>\n",
              "</mark>\n",
              " is incredibly limited, but good enough at some things to create a misleading impression of greatness.  it’s a mistake to be relying on it for anything important right now. it’s a preview of progress; we have lots of work to do on robustness and truthfulness. \n",
              "<mark class=\"entity\" style=\"background: #aa9cfc; padding: 0.45em 0.6em; margin: 0 0.25em; line-height: 1; border-radius: 0.35em;\">\n",
              "    Sam Altman\n",
              "    <span style=\"font-size: 0.8em; font-weight: bold; line-height: 1; border-radius: 0.35em; vertical-align: middle; margin-left: 0.5rem\">PERSON</span>\n",
              "</mark>\n",
              ", CEO \n",
              "<mark class=\"entity\" style=\"background: #feca74; padding: 0.45em 0.6em; margin: 0 0.25em; line-height: 1; border-radius: 0.35em;\">\n",
              "    OpenAI\n",
              "    <span style=\"font-size: 0.8em; font-weight: bold; line-height: 1; border-radius: 0.35em; vertical-align: middle; margin-left: 0.5rem\">GPE</span>\n",
              "</mark>\n",
              ".  Twitter 12/10/22.</div></span>"
            ]
          },
          "metadata": {}
        },
        {
          "output_type": "stream",
          "name": "stdout",
          "text": [
            "\n",
            "all_ents: [('ChatGPT', 'ORG'), ('Sam Altman', 'PERSON'), ('OpenAI', 'GPE')]\n",
            "named_ents: ['Sam Altman']\n",
            "doc: “There’s a certain feeling that happens when a new technology adjusts your thinking about computing. Google did it. Firefox did it. AWS did it. iPhone did it. OpenAI is doing it with ChatGPT.” ~Aaron Levie\n",
            "cleaned_doc: There’s a certain feeling that happens when a new technology adjusts your thinking about computing. Google did it. Firefox did it. AWS did it. iPhone did it. OpenAI is doing it with ChatGPT. Aaron Levie\n",
            "cleaned_doc.sents: [There’s a certain feeling that happens when a new technology adjusts your thinking about computing., Google did it., Firefox did it., AWS did it., iPhone did it., OpenAI is doing it with ChatGPT., Aaron Levie]\n",
            "cleaned_doc.ents: [Google, OpenAI, Aaron Levie]\n",
            "\n"
          ]
        },
        {
          "output_type": "display_data",
          "data": {
            "text/plain": [
              "<IPython.core.display.HTML object>"
            ],
            "text/html": [
              "<span class=\"tex2jax_ignore\"><div class=\"entities\" style=\"line-height: 2.5; direction: ltr\">There’s a certain feeling that happens when a new technology adjusts your thinking about computing. \n",
              "<mark class=\"entity\" style=\"background: #7aecec; padding: 0.45em 0.6em; margin: 0 0.25em; line-height: 1; border-radius: 0.35em;\">\n",
              "    Google\n",
              "    <span style=\"font-size: 0.8em; font-weight: bold; line-height: 1; border-radius: 0.35em; vertical-align: middle; margin-left: 0.5rem\">ORG</span>\n",
              "</mark>\n",
              " did it. Firefox did it. AWS did it. iPhone did it. \n",
              "<mark class=\"entity\" style=\"background: #feca74; padding: 0.45em 0.6em; margin: 0 0.25em; line-height: 1; border-radius: 0.35em;\">\n",
              "    OpenAI\n",
              "    <span style=\"font-size: 0.8em; font-weight: bold; line-height: 1; border-radius: 0.35em; vertical-align: middle; margin-left: 0.5rem\">GPE</span>\n",
              "</mark>\n",
              " is doing it with ChatGPT. \n",
              "<mark class=\"entity\" style=\"background: #aa9cfc; padding: 0.45em 0.6em; margin: 0 0.25em; line-height: 1; border-radius: 0.35em;\">\n",
              "    Aaron Levie\n",
              "    <span style=\"font-size: 0.8em; font-weight: bold; line-height: 1; border-radius: 0.35em; vertical-align: middle; margin-left: 0.5rem\">PERSON</span>\n",
              "</mark>\n",
              "</div></span>"
            ]
          },
          "metadata": {}
        },
        {
          "output_type": "stream",
          "name": "stdout",
          "text": [
            "\n",
            "all_ents: [('Google', 'ORG'), ('OpenAI', 'GPE'), ('Aaron Levie', 'PERSON')]\n",
            "named_ents: ['Aaron Levie']\n",
            "\n",
            "Anonymized Corpus:\n",
            "ChatGPT is scary good. We are not far from dangerously strong AI. \n",
            "ChatGPT is incredibly limited, but good enough at some things to create a misleading impression of greatness.  it’s a mistake to be relying on it for anything important right now. it’s a preview of progress; we have lots of work to do on robustness and truthfulness. , CEO OpenAI.  Twitter 12/10/22.\n",
            "There’s a certain feeling that happens when a new technology adjusts your thinking about computing. Google did it. Firefox did it. AWS did it. iPhone did it. OpenAI is doing it with ChatGPT. \n"
          ]
        }
      ]
    }
  ],
  "metadata": {
    "colab": {
      "provenance": []
    },
    "kernelspec": {
      "display_name": "Python 3 (ipykernel)",
      "language": "python",
      "name": "python3"
    },
    "language_info": {
      "codemirror_mode": {
        "name": "ipython",
        "version": 3
      },
      "file_extension": ".py",
      "mimetype": "text/x-python",
      "name": "python",
      "nbconvert_exporter": "python",
      "pygments_lexer": "ipython3",
      "version": "3.7.11"
    }
  },
  "nbformat": 4,
  "nbformat_minor": 0
}